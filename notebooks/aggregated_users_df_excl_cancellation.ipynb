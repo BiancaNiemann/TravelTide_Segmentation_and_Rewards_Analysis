{
 "cells": [
  {
   "cell_type": "markdown",
   "id": "11835aef",
   "metadata": {},
   "source": [
    "# TravelTide Company\n",
    "- EDA & adding columns on user_lever_table and creating a perks column"
   ]
  },
  {
   "cell_type": "code",
   "execution_count": 4,
   "id": "5a1a2385",
   "metadata": {},
   "outputs": [],
   "source": [
    "import pandas as pd\n",
    "\n",
    "user_level_df = pd.read_csv(\"/Users/biancaniemann/Documents/VS Code/Practice Python/Travel Tide Project/TravelTide_Final_Files/user_level_df.csv\")"
   ]
  },
  {
   "cell_type": "code",
   "execution_count": 1,
   "id": "df947f92",
   "metadata": {},
   "outputs": [],
   "source": [
    "!pip install -q pandasql\n",
    "from pandasql import sqldf\n",
    "pysqldf = lambda q: sqldf(q, globals())"
   ]
  },
  {
   "cell_type": "code",
   "execution_count": null,
   "id": "24b2c7ff",
   "metadata": {},
   "outputs": [],
   "source": [
    "# Added the scaled ADS using python as when I tried to add the column using SQL I kept getting errors, probably wont use in segmentation but thought good to have incase\n",
    "\n",
    "from sklearn.preprocessing import MinMaxScaler\n",
    "scaler = MinMaxScaler()\n",
    "user_level_df['scaled_ADS'] = scaler.fit_transform(user_level_df[['ADS_flights']])"
   ]
  },
  {
   "cell_type": "code",
   "execution_count": 26,
   "id": "d57eb8ee",
   "metadata": {},
   "outputs": [],
   "source": [
    "# Resave user_level_df to include the new scaled ADS column on flights\n",
    "user_level_df.to_csv('user_level_df.csv', index=False)"
   ]
  },
  {
   "cell_type": "code",
   "execution_count": 153,
   "id": "d9fecf5a",
   "metadata": {},
   "outputs": [
    {
     "data": {
      "text/plain": [
       "user_id                                int64\n",
       "birthdate                             object\n",
       "age_end_july_2023                    float64\n",
       "gender                                object\n",
       "married                                int64\n",
       "has_children                           int64\n",
       "home_country                          object\n",
       "home_city                             object\n",
       "home_airport                          object\n",
       "home_airport_lat                     float64\n",
       "home_airport_lon                     float64\n",
       "sign_up_date                          object\n",
       "mths_as_customer                     float64\n",
       "avg_session_duration_seconds         float64\n",
       "sum_session_duration_seconds         float64\n",
       "trips_booked                           int64\n",
       "total_sessions                         int64\n",
       "total_page_clicks                      int64\n",
       "avg_days_booking_to_flight           float64\n",
       "total_cancellations                    int64\n",
       "total_flights_with_discount            int64\n",
       "avg_flight_discount_amount           float64\n",
       "sum_flight_discount_amount           float64\n",
       "discount_flight_proportion           float64\n",
       "sum_flights_cost                     float64\n",
       "avg_flights_cost                     float64\n",
       "sum_departure_flights                  int64\n",
       "sum_return_flights                     int64\n",
       "total_flights_transactions             int64\n",
       "ADS_flights                          float64\n",
       "ADS_per_km                           float64\n",
       "sum_distance_km                      float64\n",
       "avg_distance_km                      float64\n",
       "avg_seats_booked                     float64\n",
       "sum_seats_booked                     float64\n",
       "avg_checked_bags                     float64\n",
       "sum_checked_bags                     float64\n",
       "total_hotels_with_discount             int64\n",
       "avg_hotel_discount_amount            float64\n",
       "sum_hotel_discount_amount            float64\n",
       "discount_hotel_proportion            float64\n",
       "sum_hotel_cost_per_room_per_night    float64\n",
       "avg_hotel_cost_per_room_per_night    float64\n",
       "sum_hotel_cost_total                 float64\n",
       "avg_hotel_cost_total                 float64\n",
       "total_hotel_transactions               int64\n",
       "ADS_hotels                           float64\n",
       "avg_nights_booked                    float64\n",
       "sum_nights_booked                    float64\n",
       "avg_rooms_booked                     float64\n",
       "sum_rooms_booked                     float64\n",
       "scaled_ADS                           float64\n",
       "dtype: object"
      ]
     },
     "execution_count": 153,
     "metadata": {},
     "output_type": "execute_result"
    }
   ],
   "source": [
    "user_level_df.dtypes"
   ]
  },
  {
   "cell_type": "code",
   "execution_count": 28,
   "id": "f4eb49f3",
   "metadata": {},
   "outputs": [
    {
     "data": {
      "text/plain": [
       "(5998, 52)"
      ]
     },
     "execution_count": 28,
     "metadata": {},
     "output_type": "execute_result"
    }
   ],
   "source": [
    "user_level_df.shape"
   ]
  },
  {
   "cell_type": "code",
   "execution_count": 23,
   "id": "a977242f",
   "metadata": {},
   "outputs": [
    {
     "data": {
      "text/plain": [
       "Index(['user_id', 'birthdate', 'age_end_july_2023', 'gender', 'married',\n",
       "       'has_children', 'home_country', 'home_city', 'home_airport',\n",
       "       'home_airport_lat', 'home_airport_lon', 'sign_up_date',\n",
       "       'mths_as_customer', 'avg_session_duration_seconds',\n",
       "       'sum_session_duration_seconds', 'trips_booked', 'total_sessions',\n",
       "       'total_page_clicks', 'avg_days_booking_to_flight',\n",
       "       'total_cancellations', 'total_flights_with_discount',\n",
       "       'avg_flight_discount_amount', 'sum_flight_discount_amount',\n",
       "       'discount_flight_proportion', 'sum_flights_cost', 'avg_flights_cost',\n",
       "       'sum_departure_flights', 'sum_return_flights',\n",
       "       'total_flights_transactions', 'ADS_flights', 'ADS_per_km',\n",
       "       'sum_distance_km', 'avg_distance_km', 'avg_seats_booked',\n",
       "       'sum_seats_booked', 'avg_checked_bags', 'sum_checked_bags',\n",
       "       'total_hotels_with_discount', 'avg_hotel_discount_amount',\n",
       "       'sum_hotel_discount_amount', 'discount_hotel_proportion',\n",
       "       'sum_hotel_cost_per_room_per_night',\n",
       "       'avg_hotel_cost_per_room_per_night', 'sum_hotel_cost_total',\n",
       "       'avg_hotel_cost_total', 'total_hotel_transactions', 'ADS_hotels',\n",
       "       'avg_nights_booked', 'sum_nights_booked', 'avg_rooms_booked',\n",
       "       'sum_rooms_booked', 'scaled_ADS'],\n",
       "      dtype='object')"
      ]
     },
     "execution_count": 23,
     "metadata": {},
     "output_type": "execute_result"
    }
   ],
   "source": [
    "user_level_df.columns"
   ]
  },
  {
   "cell_type": "code",
   "execution_count": 29,
   "id": "53dea809",
   "metadata": {},
   "outputs": [
    {
     "data": {
      "text/html": [
       "<div>\n",
       "<style scoped>\n",
       "    .dataframe tbody tr th:only-of-type {\n",
       "        vertical-align: middle;\n",
       "    }\n",
       "\n",
       "    .dataframe tbody tr th {\n",
       "        vertical-align: top;\n",
       "    }\n",
       "\n",
       "    .dataframe thead th {\n",
       "        text-align: right;\n",
       "    }\n",
       "</style>\n",
       "<table border=\"1\" class=\"dataframe\">\n",
       "  <thead>\n",
       "    <tr style=\"text-align: right;\">\n",
       "      <th></th>\n",
       "      <th>user_id</th>\n",
       "      <th>trips_booked</th>\n",
       "      <th>total_flights_transactions</th>\n",
       "    </tr>\n",
       "  </thead>\n",
       "  <tbody>\n",
       "    <tr>\n",
       "      <th>0</th>\n",
       "      <td>23557</td>\n",
       "      <td>2</td>\n",
       "      <td>0</td>\n",
       "    </tr>\n",
       "    <tr>\n",
       "      <th>1</th>\n",
       "      <td>94883</td>\n",
       "      <td>2</td>\n",
       "      <td>4</td>\n",
       "    </tr>\n",
       "    <tr>\n",
       "      <th>2</th>\n",
       "      <td>101486</td>\n",
       "      <td>2</td>\n",
       "      <td>2</td>\n",
       "    </tr>\n",
       "    <tr>\n",
       "      <th>3</th>\n",
       "      <td>101961</td>\n",
       "      <td>5</td>\n",
       "      <td>10</td>\n",
       "    </tr>\n",
       "    <tr>\n",
       "      <th>4</th>\n",
       "      <td>106907</td>\n",
       "      <td>0</td>\n",
       "      <td>0</td>\n",
       "    </tr>\n",
       "    <tr>\n",
       "      <th>...</th>\n",
       "      <td>...</td>\n",
       "      <td>...</td>\n",
       "      <td>...</td>\n",
       "    </tr>\n",
       "    <tr>\n",
       "      <th>5993</th>\n",
       "      <td>792549</td>\n",
       "      <td>4</td>\n",
       "      <td>8</td>\n",
       "    </tr>\n",
       "    <tr>\n",
       "      <th>5994</th>\n",
       "      <td>796032</td>\n",
       "      <td>2</td>\n",
       "      <td>4</td>\n",
       "    </tr>\n",
       "    <tr>\n",
       "      <th>5995</th>\n",
       "      <td>801660</td>\n",
       "      <td>3</td>\n",
       "      <td>6</td>\n",
       "    </tr>\n",
       "    <tr>\n",
       "      <th>5996</th>\n",
       "      <td>811077</td>\n",
       "      <td>1</td>\n",
       "      <td>2</td>\n",
       "    </tr>\n",
       "    <tr>\n",
       "      <th>5997</th>\n",
       "      <td>844489</td>\n",
       "      <td>0</td>\n",
       "      <td>0</td>\n",
       "    </tr>\n",
       "  </tbody>\n",
       "</table>\n",
       "<p>5998 rows × 3 columns</p>\n",
       "</div>"
      ],
      "text/plain": [
       "      user_id  trips_booked  total_flights_transactions\n",
       "0       23557             2                           0\n",
       "1       94883             2                           4\n",
       "2      101486             2                           2\n",
       "3      101961             5                          10\n",
       "4      106907             0                           0\n",
       "...       ...           ...                         ...\n",
       "5993   792549             4                           8\n",
       "5994   796032             2                           4\n",
       "5995   801660             3                           6\n",
       "5996   811077             1                           2\n",
       "5997   844489             0                           0\n",
       "\n",
       "[5998 rows x 3 columns]"
      ]
     },
     "execution_count": 29,
     "metadata": {},
     "output_type": "execute_result"
    }
   ],
   "source": [
    "#  Check total flights transactions calculating correctly and not using the trips booked amount (includes the return flight)\n",
    "\n",
    "query = \"\"\"\n",
    "SELECT user_id, \n",
    "    trips_booked,\n",
    "    total_flights_transactions\n",
    "FROM user_level_df\n",
    "\n",
    "\"\"\"\n",
    "result = pysqldf(query)\n",
    "result"
   ]
  },
  {
   "cell_type": "code",
   "execution_count": 6,
   "id": "c40aa60f",
   "metadata": {},
   "outputs": [
    {
     "data": {
      "text/html": [
       "<div>\n",
       "<style scoped>\n",
       "    .dataframe tbody tr th:only-of-type {\n",
       "        vertical-align: middle;\n",
       "    }\n",
       "\n",
       "    .dataframe tbody tr th {\n",
       "        vertical-align: top;\n",
       "    }\n",
       "\n",
       "    .dataframe thead th {\n",
       "        text-align: right;\n",
       "    }\n",
       "</style>\n",
       "<table border=\"1\" class=\"dataframe\">\n",
       "  <thead>\n",
       "    <tr style=\"text-align: right;\">\n",
       "      <th></th>\n",
       "      <th>COUNT(DISTINCT user_id)</th>\n",
       "    </tr>\n",
       "  </thead>\n",
       "  <tbody>\n",
       "    <tr>\n",
       "      <th>0</th>\n",
       "      <td>3948</td>\n",
       "    </tr>\n",
       "  </tbody>\n",
       "</table>\n",
       "</div>"
      ],
      "text/plain": [
       "   COUNT(DISTINCT user_id)\n",
       "0                     3948"
      ]
     },
     "execution_count": 6,
     "metadata": {},
     "output_type": "execute_result"
    }
   ],
   "source": [
    "# count users that have at least one bag checked\n",
    "\n",
    "query = \"\"\"\n",
    "\n",
    "SELECT COUNT(DISTINCT user_id)\n",
    "FROM user_level_df\n",
    "WHERE sum_checked_bags > 0\n",
    "\n",
    "\"\"\"\n",
    "result = pysqldf(query)\n",
    "result"
   ]
  },
  {
   "cell_type": "code",
   "execution_count": 19,
   "id": "6f51a644",
   "metadata": {},
   "outputs": [
    {
     "data": {
      "text/html": [
       "<div>\n",
       "<style scoped>\n",
       "    .dataframe tbody tr th:only-of-type {\n",
       "        vertical-align: middle;\n",
       "    }\n",
       "\n",
       "    .dataframe tbody tr th {\n",
       "        vertical-align: top;\n",
       "    }\n",
       "\n",
       "    .dataframe thead th {\n",
       "        text-align: right;\n",
       "    }\n",
       "</style>\n",
       "<table border=\"1\" class=\"dataframe\">\n",
       "  <thead>\n",
       "    <tr style=\"text-align: right;\">\n",
       "      <th></th>\n",
       "      <th>sum_seats_booked</th>\n",
       "      <th>COUNT(DISTINCT user_id)</th>\n",
       "    </tr>\n",
       "  </thead>\n",
       "  <tbody>\n",
       "    <tr>\n",
       "      <th>0</th>\n",
       "      <td>1.0</td>\n",
       "      <td>975</td>\n",
       "    </tr>\n",
       "    <tr>\n",
       "      <th>1</th>\n",
       "      <td>2.0</td>\n",
       "      <td>1188</td>\n",
       "    </tr>\n",
       "    <tr>\n",
       "      <th>2</th>\n",
       "      <td>3.0</td>\n",
       "      <td>1111</td>\n",
       "    </tr>\n",
       "    <tr>\n",
       "      <th>3</th>\n",
       "      <td>4.0</td>\n",
       "      <td>791</td>\n",
       "    </tr>\n",
       "    <tr>\n",
       "      <th>4</th>\n",
       "      <td>5.0</td>\n",
       "      <td>503</td>\n",
       "    </tr>\n",
       "    <tr>\n",
       "      <th>5</th>\n",
       "      <td>6.0</td>\n",
       "      <td>274</td>\n",
       "    </tr>\n",
       "    <tr>\n",
       "      <th>6</th>\n",
       "      <td>7.0</td>\n",
       "      <td>125</td>\n",
       "    </tr>\n",
       "    <tr>\n",
       "      <th>7</th>\n",
       "      <td>8.0</td>\n",
       "      <td>40</td>\n",
       "    </tr>\n",
       "    <tr>\n",
       "      <th>8</th>\n",
       "      <td>9.0</td>\n",
       "      <td>24</td>\n",
       "    </tr>\n",
       "    <tr>\n",
       "      <th>9</th>\n",
       "      <td>10.0</td>\n",
       "      <td>8</td>\n",
       "    </tr>\n",
       "    <tr>\n",
       "      <th>10</th>\n",
       "      <td>11.0</td>\n",
       "      <td>4</td>\n",
       "    </tr>\n",
       "    <tr>\n",
       "      <th>11</th>\n",
       "      <td>12.0</td>\n",
       "      <td>1</td>\n",
       "    </tr>\n",
       "    <tr>\n",
       "      <th>12</th>\n",
       "      <td>15.0</td>\n",
       "      <td>1</td>\n",
       "    </tr>\n",
       "  </tbody>\n",
       "</table>\n",
       "</div>"
      ],
      "text/plain": [
       "    sum_seats_booked  COUNT(DISTINCT user_id)\n",
       "0                1.0                      975\n",
       "1                2.0                     1188\n",
       "2                3.0                     1111\n",
       "3                4.0                      791\n",
       "4                5.0                      503\n",
       "5                6.0                      274\n",
       "6                7.0                      125\n",
       "7                8.0                       40\n",
       "8                9.0                       24\n",
       "9               10.0                        8\n",
       "10              11.0                        4\n",
       "11              12.0                        1\n",
       "12              15.0                        1"
      ]
     },
     "execution_count": 19,
     "metadata": {},
     "output_type": "execute_result"
    }
   ],
   "source": [
    "# count users per seat booked\n",
    "\n",
    "query = \"\"\"\n",
    "SELECT sum_seats_booked, COUNT(DISTINCT user_id)\n",
    "FROM user_level_df\n",
    "GROUP BY sum_seats_booked\n",
    "HAVING sum_seats_booked > 0\n",
    "ORDER BY sum_seats_booked\n",
    "\n",
    "\"\"\"\n",
    "result = pysqldf(query)\n",
    "result"
   ]
  },
  {
   "cell_type": "markdown",
   "id": "41bd4b57",
   "metadata": {},
   "source": [
    "### Tried to copy the charts in the sprint for week 3, couldnt get back to exactly what they had although mine are also all right skewed like thiers"
   ]
  },
  {
   "cell_type": "code",
   "execution_count": 7,
   "id": "b201ed20",
   "metadata": {},
   "outputs": [
    {
     "data": {
      "image/png": "[encoded data removed]",
      "text/plain": [
       "<Figure size 640x480 with 1 Axes>"
      ]
     },
     "metadata": {},
     "output_type": "display_data"
    }
   ],
   "source": [
    "import matplotlib.pyplot as plt\n",
    "\n",
    "# Create histogram\n",
    "user_level_df['discount_flight_proportion'].plot(kind='hist', bins=10, edgecolor='black')\n",
    "\n",
    "# Add labels and title\n",
    "plt.xlabel('Discount Flight Proportion')\n",
    "plt.ylabel('Number of Users')\n",
    "plt.title('Histogram of Discount Flight Proportion')\n",
    "\n",
    "# Show the plot\n",
    "plt.show()\n"
   ]
  },
  {
   "cell_type": "code",
   "execution_count": 8,
   "id": "1635d2fa",
   "metadata": {},
   "outputs": [
    {
     "data": {
      "image/png": "[encoded data removed]",
      "text/plain": [
       "<Figure size 640x480 with 1 Axes>"
      ]
     },
     "metadata": {},
     "output_type": "display_data"
    }
   ],
   "source": [
    "import matplotlib.pyplot as plt\n",
    "\n",
    "# Create histogram\n",
    "user_level_df['avg_flight_discount_amount'].plot(kind='hist', bins=10, edgecolor='black')\n",
    "\n",
    "# Add labels and title\n",
    "plt.xlabel('AVG Flight Discount Amount')\n",
    "plt.ylabel('Number of Users')\n",
    "plt.title('Histogram of AVG Flight Discount Amount')\n",
    "\n",
    "# Show the plot\n",
    "plt.show()"
   ]
  },
  {
   "cell_type": "code",
   "execution_count": 32,
   "id": "f37a4d0d",
   "metadata": {},
   "outputs": [
    {
     "data": {
      "image/png": "[encoded data removed]",
      "text/plain": [
       "<Figure size 640x480 with 1 Axes>"
      ]
     },
     "metadata": {},
     "output_type": "display_data"
    }
   ],
   "source": [
    "import matplotlib.pyplot as plt\n",
    "\n",
    "# Create histogram\n",
    "user_level_df['scaled_ADS'].plot(kind='hist', bins=10, edgecolor='black')\n",
    "\n",
    "# Add labels and title\n",
    "plt.xlabel('scaled_ADS_per_km')\n",
    "plt.ylabel('Number of Users')\n",
    "plt.title('Histogram of Scaled_ADS_per_km')\n",
    "\n",
    "# Show the plot\n",
    "plt.show()"
   ]
  },
  {
   "cell_type": "markdown",
   "id": "37048163",
   "metadata": {},
   "source": [
    "# Final query to create a table including segmentation and perks per customer"
   ]
  },
  {
   "cell_type": "code",
   "execution_count": 175,
   "id": "04a83739",
   "metadata": {},
   "outputs": [],
   "source": [
    "# Final query to create a table including the perks per customer\n",
    "\n",
    "query = \"\"\"\n",
    "\n",
    "WITH segmentation_split AS (\n",
    "    SELECT *,\n",
    "        CASE\n",
    "            WHEN trips_booked = 0 AND total_cancellations  = 0 THEN 'Wanderlust Watcher'\n",
    "            WHEN trips_booked = 0 AND total_cancellations  > 0 THEN 'Last-Minute Leaver'\n",
    "            WHEN trips_booked > 0 AND has_children = TRUE THEN 'Family Explorer'\n",
    "            WHEN trips_booked > 0 AND has_children = FALSE AND age_end_july_2023 <= 35 THEN 'Youthful Adventurer'\n",
    "            WHEN trips_booked > 0 AND has_children = FALSE AND age_end_july_2023 > 55 THEN 'Golden Explorer'\n",
    "            WHEN trips_booked > 0 AND has_children = FALSE AND age_end_july_2023 BETWEEN 36 AND 55 AND avg_flight_discount_amount = 0 THEN 'Mid-Life Spender'\n",
    "            WHEN trips_booked > 0 AND has_children = FALSE AND age_end_july_2023 BETWEEN 36 AND 55 AND avg_flight_discount_amount > 0 THEN 'Mid-Life Saver'\n",
    "            ELSE 'No Perk'\n",
    "        END AS segmentation\n",
    "    FROM user_level_df\n",
    ")\n",
    "SELECT *,\n",
    "        CASE\n",
    "        WHEN segmentation = 'Last-Minute Leaver' THEN 'Free Cancellation'\n",
    "        WHEN segmentation = 'Family Explorer' THEN 'Kids stay free on next booking flight & hotel combo'\n",
    "        WHEN segmentation = 'Youthful Adventurer' THEN 'Free bag for all passengers on next flight booking'\n",
    "        WHEN segmentation = 'Golden Explorer'  THEN '10% discount on next booking made 30 days in advance'\n",
    "        WHEN segmentation = 'Mid-Life Spender' THEN 'Free meal with next hotel booking' \n",
    "        WHEN segmentation = 'Mid-Life Saver' THEN '15% Discount with next booking flight & hotel combo'\n",
    "        WHEN segmentation = 'Wanderlust Watcher' THEN 'Free drink on next flight'\n",
    "        ELSE 'No Perk'\n",
    "    END AS perk\n",
    "FROM segmentation_split\n",
    "\n",
    "\"\"\"\n",
    "perk_result = pysqldf(query)\n",
    "perk_result\n",
    "perk_result.to_csv('user_level_df_incl_perk_segments.csv', index=False)"
   ]
  },
  {
   "cell_type": "code",
   "execution_count": 172,
   "id": "109784f1",
   "metadata": {},
   "outputs": [
    {
     "data": {
      "text/html": [
       "<div>\n",
       "<style scoped>\n",
       "    .dataframe tbody tr th:only-of-type {\n",
       "        vertical-align: middle;\n",
       "    }\n",
       "\n",
       "    .dataframe tbody tr th {\n",
       "        vertical-align: top;\n",
       "    }\n",
       "\n",
       "    .dataframe thead th {\n",
       "        text-align: right;\n",
       "    }\n",
       "</style>\n",
       "<table border=\"1\" class=\"dataframe\">\n",
       "  <thead>\n",
       "    <tr style=\"text-align: right;\">\n",
       "      <th></th>\n",
       "      <th>segmentation</th>\n",
       "      <th>user_count</th>\n",
       "      <th>total</th>\n",
       "    </tr>\n",
       "  </thead>\n",
       "  <tbody>\n",
       "    <tr>\n",
       "      <th>0</th>\n",
       "      <td>Family Explorer</td>\n",
       "      <td>1776</td>\n",
       "      <td>1776</td>\n",
       "    </tr>\n",
       "    <tr>\n",
       "      <th>1</th>\n",
       "      <td>Golden Explorer</td>\n",
       "      <td>285</td>\n",
       "      <td>2061</td>\n",
       "    </tr>\n",
       "    <tr>\n",
       "      <th>2</th>\n",
       "      <td>Last-Minute Leaver</td>\n",
       "      <td>100</td>\n",
       "      <td>2161</td>\n",
       "    </tr>\n",
       "    <tr>\n",
       "      <th>3</th>\n",
       "      <td>Mid-Life Saver</td>\n",
       "      <td>931</td>\n",
       "      <td>3092</td>\n",
       "    </tr>\n",
       "    <tr>\n",
       "      <th>4</th>\n",
       "      <td>Mid-Life Spender</td>\n",
       "      <td>1459</td>\n",
       "      <td>4551</td>\n",
       "    </tr>\n",
       "    <tr>\n",
       "      <th>5</th>\n",
       "      <td>Wanderlust Watcher</td>\n",
       "      <td>456</td>\n",
       "      <td>5007</td>\n",
       "    </tr>\n",
       "    <tr>\n",
       "      <th>6</th>\n",
       "      <td>Youthful Adventurer</td>\n",
       "      <td>991</td>\n",
       "      <td>5998</td>\n",
       "    </tr>\n",
       "  </tbody>\n",
       "</table>\n",
       "</div>"
      ],
      "text/plain": [
       "          segmentation  user_count  total\n",
       "0      Family Explorer        1776   1776\n",
       "1      Golden Explorer         285   2061\n",
       "2   Last-Minute Leaver         100   2161\n",
       "3       Mid-Life Saver         931   3092\n",
       "4     Mid-Life Spender        1459   4551\n",
       "5   Wanderlust Watcher         456   5007\n",
       "6  Youthful Adventurer         991   5998"
      ]
     },
     "execution_count": 172,
     "metadata": {},
     "output_type": "execute_result"
    }
   ],
   "source": [
    "# Count per user to check no duplicates and no user has been left out, used a CTE so I can add a rolling total on the perks columns to see total\n",
    "\n",
    "query = \"\"\"\n",
    "\n",
    "WITH count_table AS (\n",
    "    SELECT COUNT(user_id) AS user_count,\n",
    "        CASE\n",
    "            WHEN trips_booked = 0 AND total_cancellations  = 0 THEN 'Wanderlust Watcher'\n",
    "            WHEN trips_booked = 0 AND total_cancellations  > 0 THEN 'Last-Minute Leaver'\n",
    "            WHEN trips_booked > 0 AND has_children = TRUE THEN 'Family Explorer'\n",
    "            WHEN trips_booked > 0 AND has_children = FALSE AND age_end_july_2023 <= 35 THEN 'Youthful Adventurer'\n",
    "            WHEN trips_booked > 0 AND has_children = FALSE AND age_end_july_2023 > 55 THEN 'Golden Explorer'\n",
    "            WHEN trips_booked > 0 AND has_children = FALSE AND age_end_july_2023 BETWEEN 36 AND 55 AND avg_flight_discount_amount = 0 THEN 'Mid-Life Spender'\n",
    "            WHEN trips_booked > 0 AND has_children = FALSE AND age_end_july_2023 BETWEEN 36 AND 55 AND avg_flight_discount_amount > 0 THEN 'Mid-Life Saver'\n",
    "        END AS segmentation\n",
    "    FROM user_level_df\n",
    "    GROUP BY segmentation\n",
    ")\n",
    "SELECT \n",
    "    segmentation,\n",
    "    user_count,\n",
    "    SUM(user_count) OVER(ORDER BY segmentation) AS total\n",
    "FROM count_table\n",
    "\n",
    "\"\"\"\n",
    "result1 = pysqldf(query)\n",
    "result1"
   ]
  },
  {
   "cell_type": "markdown",
   "id": "15902cd7",
   "metadata": {},
   "source": [
    "## Code below was for first try at segmentation\n",
    "* Kept for record puroposes incase I need to change something"
   ]
  },
  {
   "cell_type": "code",
   "execution_count": 96,
   "id": "c3a960c4",
   "metadata": {},
   "outputs": [
    {
     "data": {
      "text/html": [
       "<div>\n",
       "<style scoped>\n",
       "    .dataframe tbody tr th:only-of-type {\n",
       "        vertical-align: middle;\n",
       "    }\n",
       "\n",
       "    .dataframe tbody tr th {\n",
       "        vertical-align: top;\n",
       "    }\n",
       "\n",
       "    .dataframe thead th {\n",
       "        text-align: right;\n",
       "    }\n",
       "</style>\n",
       "<table border=\"1\" class=\"dataframe\">\n",
       "  <thead>\n",
       "    <tr style=\"text-align: right;\">\n",
       "      <th></th>\n",
       "      <th>COUNT(user_id)</th>\n",
       "    </tr>\n",
       "  </thead>\n",
       "  <tbody>\n",
       "    <tr>\n",
       "      <th>0</th>\n",
       "      <td>1728</td>\n",
       "    </tr>\n",
       "  </tbody>\n",
       "</table>\n",
       "</div>"
      ],
      "text/plain": [
       "   COUNT(user_id)\n",
       "0            1728"
      ]
     },
     "execution_count": 96,
     "metadata": {},
     "output_type": "execute_result"
    }
   ],
   "source": [
    "#  'Family small Spender' perk - Kids eat free when booking a hotel (Has trips booked, has kids, spent avg of 3000 or less on hotels)\n",
    "\n",
    "query = \"\"\"\n",
    "SELECT COUNT(user_id)\n",
    "FROM user_level_df\n",
    "WHERE trips_booked > 0 \n",
    "    AND has_children = TRUE\n",
    "    AND avg_hotel_cost_total <= 3000 \n",
    "\n",
    "\n",
    "\"\"\"\n",
    "result = pysqldf(query)\n",
    "result"
   ]
  },
  {
   "cell_type": "code",
   "execution_count": 78,
   "id": "6c9f2962",
   "metadata": {},
   "outputs": [
    {
     "data": {
      "text/html": [
       "<div>\n",
       "<style scoped>\n",
       "    .dataframe tbody tr th:only-of-type {\n",
       "        vertical-align: middle;\n",
       "    }\n",
       "\n",
       "    .dataframe tbody tr th {\n",
       "        vertical-align: top;\n",
       "    }\n",
       "\n",
       "    .dataframe thead th {\n",
       "        text-align: right;\n",
       "    }\n",
       "</style>\n",
       "<table border=\"1\" class=\"dataframe\">\n",
       "  <thead>\n",
       "    <tr style=\"text-align: right;\">\n",
       "      <th></th>\n",
       "      <th>COUNT(user_id)</th>\n",
       "    </tr>\n",
       "  </thead>\n",
       "  <tbody>\n",
       "    <tr>\n",
       "      <th>0</th>\n",
       "      <td>186</td>\n",
       "    </tr>\n",
       "  </tbody>\n",
       "</table>\n",
       "</div>"
      ],
      "text/plain": [
       "   COUNT(user_id)\n",
       "0             186"
      ]
     },
     "execution_count": 78,
     "metadata": {},
     "output_type": "execute_result"
    }
   ],
   "source": [
    "#  'Big Spender' Perk - 1 night free hotel room with next flight booking (Has trips booked, has no kids, Over 35 years old, has over 4 hotel bookings, has over 9 flights booked)\n",
    "\n",
    "query = \"\"\"\n",
    "SELECT COUNT(user_id)\n",
    "FROM user_level_df\n",
    "WHERE trips_booked > 0 \n",
    "    AND has_children = FALSE\n",
    "    AND age_end_july_2023 > 35\n",
    "    AND total_hotel_transactions > 4\n",
    "    AND total_flights_transactions > 9\n",
    "\n",
    "\n",
    "\"\"\"\n",
    "result = pysqldf(query)\n",
    "result"
   ]
  },
  {
   "cell_type": "code",
   "execution_count": 79,
   "id": "2bdbf7ae",
   "metadata": {},
   "outputs": [
    {
     "data": {
      "text/html": [
       "<div>\n",
       "<style scoped>\n",
       "    .dataframe tbody tr th:only-of-type {\n",
       "        vertical-align: middle;\n",
       "    }\n",
       "\n",
       "    .dataframe tbody tr th {\n",
       "        vertical-align: top;\n",
       "    }\n",
       "\n",
       "    .dataframe thead th {\n",
       "        text-align: right;\n",
       "    }\n",
       "</style>\n",
       "<table border=\"1\" class=\"dataframe\">\n",
       "  <thead>\n",
       "    <tr style=\"text-align: right;\">\n",
       "      <th></th>\n",
       "      <th>COUNT(user_id)</th>\n",
       "    </tr>\n",
       "  </thead>\n",
       "  <tbody>\n",
       "    <tr>\n",
       "      <th>0</th>\n",
       "      <td>127</td>\n",
       "    </tr>\n",
       "  </tbody>\n",
       "</table>\n",
       "</div>"
      ],
      "text/plain": [
       "   COUNT(user_id)\n",
       "0             127"
      ]
     },
     "execution_count": 79,
     "metadata": {},
     "output_type": "execute_result"
    }
   ],
   "source": [
    "#  'Hotel Stayer' Perk - Free meal booking (Has trips booked, has no kids, Over 35 years old, has 4 or hotel bookings, has 9 or less flights booked)\n",
    "\n",
    "query = \"\"\"\n",
    "SELECT COUNT(user_id)\n",
    "FROM user_level_df\n",
    "WHERE trips_booked > 0 \n",
    "    AND has_children = FALSE\n",
    "    AND age_end_july_2023 > 35\n",
    "    AND total_hotel_transactions > 4\n",
    "    AND total_flights_transactions <= 9\n",
    "\n",
    "\n",
    "\"\"\"\n",
    "result = pysqldf(query)\n",
    "result"
   ]
  },
  {
   "cell_type": "code",
   "execution_count": 83,
   "id": "f1514894",
   "metadata": {},
   "outputs": [
    {
     "data": {
      "text/html": [
       "<div>\n",
       "<style scoped>\n",
       "    .dataframe tbody tr th:only-of-type {\n",
       "        vertical-align: middle;\n",
       "    }\n",
       "\n",
       "    .dataframe tbody tr th {\n",
       "        vertical-align: top;\n",
       "    }\n",
       "\n",
       "    .dataframe thead th {\n",
       "        text-align: right;\n",
       "    }\n",
       "</style>\n",
       "<table border=\"1\" class=\"dataframe\">\n",
       "  <thead>\n",
       "    <tr style=\"text-align: right;\">\n",
       "      <th></th>\n",
       "      <th>COUNT(user_id)</th>\n",
       "    </tr>\n",
       "  </thead>\n",
       "  <tbody>\n",
       "    <tr>\n",
       "      <th>0</th>\n",
       "      <td>1753</td>\n",
       "    </tr>\n",
       "  </tbody>\n",
       "</table>\n",
       "</div>"
      ],
      "text/plain": [
       "   COUNT(user_id)\n",
       "0            1753"
      ]
     },
     "execution_count": 83,
     "metadata": {},
     "output_type": "execute_result"
    }
   ],
   "source": [
    "#  'Mid Life Crisis Travellers' Perk - Bottle of Wine and cheese platter with next hotel booking (Has trips booked, has no kids, Over 35 years old and less then or equal to 50 years old, has 4 or less hotel bookings)\n",
    "\n",
    "query = \"\"\"\n",
    "\n",
    "SELECT COUNT(user_id)\n",
    "FROM user_level_df\n",
    "WHERE trips_booked > 0 \n",
    "    AND has_children = FALSE\n",
    "    AND age_end_july_2023 > 35\n",
    "    AND total_hotel_transactions <= 4\n",
    "    AND age_end_july_2023 <= 50\n",
    "    \n",
    "\"\"\"\n",
    "result = pysqldf(query)\n",
    "result"
   ]
  },
  {
   "cell_type": "code",
   "execution_count": 84,
   "id": "25c00f63",
   "metadata": {},
   "outputs": [
    {
     "data": {
      "text/html": [
       "<div>\n",
       "<style scoped>\n",
       "    .dataframe tbody tr th:only-of-type {\n",
       "        vertical-align: middle;\n",
       "    }\n",
       "\n",
       "    .dataframe tbody tr th {\n",
       "        vertical-align: top;\n",
       "    }\n",
       "\n",
       "    .dataframe thead th {\n",
       "        text-align: right;\n",
       "    }\n",
       "</style>\n",
       "<table border=\"1\" class=\"dataframe\">\n",
       "  <thead>\n",
       "    <tr style=\"text-align: right;\">\n",
       "      <th></th>\n",
       "      <th>COUNT(user_id)</th>\n",
       "    </tr>\n",
       "  </thead>\n",
       "  <tbody>\n",
       "    <tr>\n",
       "      <th>0</th>\n",
       "      <td>609</td>\n",
       "    </tr>\n",
       "  </tbody>\n",
       "</table>\n",
       "</div>"
      ],
      "text/plain": [
       "   COUNT(user_id)\n",
       "0             609"
      ]
     },
     "execution_count": 84,
     "metadata": {},
     "output_type": "execute_result"
    }
   ],
   "source": [
    "#  'Senior Travellers' Perk - 15% off next booking (Has trips booked, has no kids, Over 50 years old, has 4 or less hotel bookings)\n",
    "\n",
    "query = \"\"\"\n",
    "\n",
    "SELECT COUNT(user_id)\n",
    "FROM user_level_df\n",
    "WHERE trips_booked > 0 \n",
    "    AND has_children = FALSE\n",
    "    AND age_end_july_2023 > 35\n",
    "    AND total_hotel_transactions <= 4\n",
    "    AND age_end_july_2023 > 50\n",
    "    \n",
    "\"\"\"\n",
    "result = pysqldf(query)\n",
    "result"
   ]
  },
  {
   "cell_type": "code",
   "execution_count": 47,
   "id": "0f87377d",
   "metadata": {},
   "outputs": [
    {
     "data": {
      "text/html": [
       "<div>\n",
       "<style scoped>\n",
       "    .dataframe tbody tr th:only-of-type {\n",
       "        vertical-align: middle;\n",
       "    }\n",
       "\n",
       "    .dataframe tbody tr th {\n",
       "        vertical-align: top;\n",
       "    }\n",
       "\n",
       "    .dataframe thead th {\n",
       "        text-align: right;\n",
       "    }\n",
       "</style>\n",
       "<table border=\"1\" class=\"dataframe\">\n",
       "  <thead>\n",
       "    <tr style=\"text-align: right;\">\n",
       "      <th></th>\n",
       "      <th>COUNT(user_id)</th>\n",
       "    </tr>\n",
       "  </thead>\n",
       "  <tbody>\n",
       "    <tr>\n",
       "      <th>0</th>\n",
       "      <td>44</td>\n",
       "    </tr>\n",
       "  </tbody>\n",
       "</table>\n",
       "</div>"
      ],
      "text/plain": [
       "   COUNT(user_id)\n",
       "0              44"
      ]
     },
     "execution_count": 47,
     "metadata": {},
     "output_type": "execute_result"
    }
   ],
   "source": [
    "#  'Heavy Packer' Perk - Free bag on next flight (Has trips booked, has no kids, 35 years or less, Avg bags over 1)\n",
    "\n",
    "query = \"\"\"\n",
    "\n",
    "SELECT COUNT(user_id)\n",
    "FROM user_level_df\n",
    "WHERE trips_booked > 0 \n",
    "    AND has_children = FALSE\n",
    "    AND age_end_july_2023 <= 35\n",
    "    AND avg_checked_bags > 1\n",
    "\n",
    "    \n",
    "\"\"\"\n",
    "result = pysqldf(query)\n",
    "result"
   ]
  },
  {
   "cell_type": "code",
   "execution_count": 115,
   "id": "178637ad",
   "metadata": {},
   "outputs": [
    {
     "data": {
      "text/html": [
       "<div>\n",
       "<style scoped>\n",
       "    .dataframe tbody tr th:only-of-type {\n",
       "        vertical-align: middle;\n",
       "    }\n",
       "\n",
       "    .dataframe tbody tr th {\n",
       "        vertical-align: top;\n",
       "    }\n",
       "\n",
       "    .dataframe thead th {\n",
       "        text-align: right;\n",
       "    }\n",
       "</style>\n",
       "<table border=\"1\" class=\"dataframe\">\n",
       "  <thead>\n",
       "    <tr style=\"text-align: right;\">\n",
       "      <th></th>\n",
       "      <th>COUNT(user_id)</th>\n",
       "    </tr>\n",
       "  </thead>\n",
       "  <tbody>\n",
       "    <tr>\n",
       "      <th>0</th>\n",
       "      <td>451</td>\n",
       "    </tr>\n",
       "  </tbody>\n",
       "</table>\n",
       "</div>"
      ],
      "text/plain": [
       "   COUNT(user_id)\n",
       "0             451"
      ]
     },
     "execution_count": 115,
     "metadata": {},
     "output_type": "execute_result"
    }
   ],
   "source": [
    "#  Young Long Distance traveller - Free bag on next flight (Has trips booked, has no kids, 35 years or less, Avg bags over 1)\n",
    "\n",
    "query = \"\"\"\n",
    "\n",
    "SELECT COUNT(user_id)\n",
    "FROM user_level_df\n",
    "WHERE trips_booked > 0 \n",
    "    AND has_children = FALSE\n",
    "    AND age_end_july_2023 <= 35\n",
    "    AND avg_distance_km > 2000\n",
    "\n",
    "    \n",
    "\"\"\"\n",
    "result = pysqldf(query)\n",
    "result"
   ]
  },
  {
   "cell_type": "code",
   "execution_count": 111,
   "id": "e6475e5e",
   "metadata": {},
   "outputs": [
    {
     "data": {
      "text/html": [
       "<div>\n",
       "<style scoped>\n",
       "    .dataframe tbody tr th:only-of-type {\n",
       "        vertical-align: middle;\n",
       "    }\n",
       "\n",
       "    .dataframe tbody tr th {\n",
       "        vertical-align: top;\n",
       "    }\n",
       "\n",
       "    .dataframe thead th {\n",
       "        text-align: right;\n",
       "    }\n",
       "</style>\n",
       "<table border=\"1\" class=\"dataframe\">\n",
       "  <thead>\n",
       "    <tr style=\"text-align: right;\">\n",
       "      <th></th>\n",
       "      <th>COUNT(user_id)</th>\n",
       "    </tr>\n",
       "  </thead>\n",
       "  <tbody>\n",
       "    <tr>\n",
       "      <th>0</th>\n",
       "      <td>540</td>\n",
       "    </tr>\n",
       "  </tbody>\n",
       "</table>\n",
       "</div>"
      ],
      "text/plain": [
       "   COUNT(user_id)\n",
       "0             540"
      ]
     },
     "execution_count": 111,
     "metadata": {},
     "output_type": "execute_result"
    }
   ],
   "source": [
    "#  'Young short Distance traveller - Free bag on next flight (Has trips booked, has no kids, 35 years or less, Avg bags over 1)\n",
    "\n",
    "query = \"\"\"\n",
    "\n",
    "SELECT COUNT(user_id)\n",
    "FROM user_level_df\n",
    "WHERE trips_booked > 0 \n",
    "    AND has_children = FALSE\n",
    "    AND age_end_july_2023 <= 35\n",
    "    AND avg_distance_km <= 4000\n",
    "\n",
    "    \n",
    "\"\"\"\n",
    "result = pysqldf(query)\n",
    "result"
   ]
  },
  {
   "cell_type": "code",
   "execution_count": 109,
   "id": "ddbd3dbb",
   "metadata": {},
   "outputs": [
    {
     "data": {
      "text/html": [
       "<div>\n",
       "<style scoped>\n",
       "    .dataframe tbody tr th:only-of-type {\n",
       "        vertical-align: middle;\n",
       "    }\n",
       "\n",
       "    .dataframe tbody tr th {\n",
       "        vertical-align: top;\n",
       "    }\n",
       "\n",
       "    .dataframe thead th {\n",
       "        text-align: right;\n",
       "    }\n",
       "</style>\n",
       "<table border=\"1\" class=\"dataframe\">\n",
       "  <thead>\n",
       "    <tr style=\"text-align: right;\">\n",
       "      <th></th>\n",
       "      <th>COUNT(user_id)</th>\n",
       "    </tr>\n",
       "  </thead>\n",
       "  <tbody>\n",
       "    <tr>\n",
       "      <th>0</th>\n",
       "      <td>947</td>\n",
       "    </tr>\n",
       "  </tbody>\n",
       "</table>\n",
       "</div>"
      ],
      "text/plain": [
       "   COUNT(user_id)\n",
       "0             947"
      ]
     },
     "execution_count": 109,
     "metadata": {},
     "output_type": "execute_result"
    }
   ],
   "source": [
    "#  'Light Packer' Perk - Free drink and snack on next flight booked (Has trips booked, has no kids, 35 years or less, Avg bags 1 or less)\n",
    "\n",
    "query = \"\"\"\n",
    "\n",
    "SELECT COUNT(user_id)\n",
    "FROM user_level_df\n",
    "WHERE trips_booked > 0 \n",
    "    AND has_children = FALSE\n",
    "    AND age_end_july_2023 <= 35\n",
    "    AND avg_checked_bags <= 1\n",
    "\n",
    "    \n",
    "\"\"\"\n",
    "result = pysqldf(query)\n",
    "result"
   ]
  },
  {
   "cell_type": "code",
   "execution_count": 33,
   "id": "9cb80b4c",
   "metadata": {},
   "outputs": [
    {
     "data": {
      "text/html": [
       "<div>\n",
       "<style scoped>\n",
       "    .dataframe tbody tr th:only-of-type {\n",
       "        vertical-align: middle;\n",
       "    }\n",
       "\n",
       "    .dataframe tbody tr th {\n",
       "        vertical-align: top;\n",
       "    }\n",
       "\n",
       "    .dataframe thead th {\n",
       "        text-align: right;\n",
       "    }\n",
       "</style>\n",
       "<table border=\"1\" class=\"dataframe\">\n",
       "  <thead>\n",
       "    <tr style=\"text-align: right;\">\n",
       "      <th></th>\n",
       "      <th>COUNT(user_id)</th>\n",
       "    </tr>\n",
       "  </thead>\n",
       "  <tbody>\n",
       "    <tr>\n",
       "      <th>0</th>\n",
       "      <td>100</td>\n",
       "    </tr>\n",
       "  </tbody>\n",
       "</table>\n",
       "</div>"
      ],
      "text/plain": [
       "   COUNT(user_id)\n",
       "0             100"
      ]
     },
     "execution_count": 33,
     "metadata": {},
     "output_type": "execute_result"
    }
   ],
   "source": [
    "#  'Cancellers Fee' Perk -  (Has no trips booked and has cancellations)\n",
    "\n",
    "query = \"\"\"\n",
    "\n",
    "SELECT COUNT(user_id)\n",
    "FROM user_level_df\n",
    "WHERE trips_booked = 0 \n",
    "    AND total_cancellations > 0\n",
    "\n",
    "\"\"\"\n",
    "result = pysqldf(query)\n",
    "result"
   ]
  },
  {
   "cell_type": "code",
   "execution_count": 34,
   "id": "bc160613",
   "metadata": {},
   "outputs": [
    {
     "data": {
      "text/html": [
       "<div>\n",
       "<style scoped>\n",
       "    .dataframe tbody tr th:only-of-type {\n",
       "        vertical-align: middle;\n",
       "    }\n",
       "\n",
       "    .dataframe tbody tr th {\n",
       "        vertical-align: top;\n",
       "    }\n",
       "\n",
       "    .dataframe thead th {\n",
       "        text-align: right;\n",
       "    }\n",
       "</style>\n",
       "<table border=\"1\" class=\"dataframe\">\n",
       "  <thead>\n",
       "    <tr style=\"text-align: right;\">\n",
       "      <th></th>\n",
       "      <th>COUNT(user_id)</th>\n",
       "    </tr>\n",
       "  </thead>\n",
       "  <tbody>\n",
       "    <tr>\n",
       "      <th>0</th>\n",
       "      <td>456</td>\n",
       "    </tr>\n",
       "  </tbody>\n",
       "</table>\n",
       "</div>"
      ],
      "text/plain": [
       "   COUNT(user_id)\n",
       "0             456"
      ]
     },
     "execution_count": 34,
     "metadata": {},
     "output_type": "execute_result"
    }
   ],
   "source": [
    "#  'First Time Buyer' Perk -  (Has no trips booked and no cancellations)\n",
    "\n",
    "query = \"\"\"\n",
    "\n",
    "SELECT COUNT(user_id)\n",
    "FROM user_level_df\n",
    "WHERE trips_booked = 0 \n",
    "    AND total_cancellations = 0\n",
    "\n",
    "\"\"\"\n",
    "result = pysqldf(query)\n",
    "result"
   ]
  },
  {
   "cell_type": "code",
   "execution_count": 136,
   "id": "e373c48e",
   "metadata": {},
   "outputs": [
    {
     "data": {
      "text/html": [
       "<div>\n",
       "<style scoped>\n",
       "    .dataframe tbody tr th:only-of-type {\n",
       "        vertical-align: middle;\n",
       "    }\n",
       "\n",
       "    .dataframe tbody tr th {\n",
       "        vertical-align: top;\n",
       "    }\n",
       "\n",
       "    .dataframe thead th {\n",
       "        text-align: right;\n",
       "    }\n",
       "</style>\n",
       "<table border=\"1\" class=\"dataframe\">\n",
       "  <thead>\n",
       "    <tr style=\"text-align: right;\">\n",
       "      <th></th>\n",
       "      <th>Perks</th>\n",
       "      <th>user_count</th>\n",
       "      <th>total</th>\n",
       "    </tr>\n",
       "  </thead>\n",
       "  <tbody>\n",
       "    <tr>\n",
       "      <th>0</th>\n",
       "      <td>Big Spenders - 1 Night free hotel room next fl...</td>\n",
       "      <td>186</td>\n",
       "      <td>186</td>\n",
       "    </tr>\n",
       "    <tr>\n",
       "      <th>1</th>\n",
       "      <td>Family Big Spenders - Kids stay free next hote...</td>\n",
       "      <td>48</td>\n",
       "      <td>234</td>\n",
       "    </tr>\n",
       "    <tr>\n",
       "      <th>2</th>\n",
       "      <td>Family Small Spenders - Kids eat for free next...</td>\n",
       "      <td>1728</td>\n",
       "      <td>1962</td>\n",
       "    </tr>\n",
       "    <tr>\n",
       "      <th>3</th>\n",
       "      <td>First Timers - 10% off first booking</td>\n",
       "      <td>456</td>\n",
       "      <td>2418</td>\n",
       "    </tr>\n",
       "    <tr>\n",
       "      <th>4</th>\n",
       "      <td>Heavy Packers - Free bag on next flight</td>\n",
       "      <td>44</td>\n",
       "      <td>2462</td>\n",
       "    </tr>\n",
       "    <tr>\n",
       "      <th>5</th>\n",
       "      <td>Hotel Stayers - Free meal with next hotel booking</td>\n",
       "      <td>127</td>\n",
       "      <td>2589</td>\n",
       "    </tr>\n",
       "    <tr>\n",
       "      <th>6</th>\n",
       "      <td>Light Packers - Free drink and snack on next f...</td>\n",
       "      <td>947</td>\n",
       "      <td>3536</td>\n",
       "    </tr>\n",
       "    <tr>\n",
       "      <th>7</th>\n",
       "      <td>Mid Life Travellers - Bottle of Wine and chees...</td>\n",
       "      <td>1753</td>\n",
       "      <td>5289</td>\n",
       "    </tr>\n",
       "    <tr>\n",
       "      <th>8</th>\n",
       "      <td>Non-Committers - Free Cancellation on next boo...</td>\n",
       "      <td>100</td>\n",
       "      <td>5389</td>\n",
       "    </tr>\n",
       "    <tr>\n",
       "      <th>9</th>\n",
       "      <td>Senior Travellers - 15% off next booking</td>\n",
       "      <td>609</td>\n",
       "      <td>5998</td>\n",
       "    </tr>\n",
       "  </tbody>\n",
       "</table>\n",
       "</div>"
      ],
      "text/plain": [
       "                                               Perks  user_count  total\n",
       "0  Big Spenders - 1 Night free hotel room next fl...         186    186\n",
       "1  Family Big Spenders - Kids stay free next hote...          48    234\n",
       "2  Family Small Spenders - Kids eat for free next...        1728   1962\n",
       "3               First Timers - 10% off first booking         456   2418\n",
       "4            Heavy Packers - Free bag on next flight          44   2462\n",
       "5  Hotel Stayers - Free meal with next hotel booking         127   2589\n",
       "6  Light Packers - Free drink and snack on next f...         947   3536\n",
       "7  Mid Life Travellers - Bottle of Wine and chees...        1753   5289\n",
       "8  Non-Committers - Free Cancellation on next boo...         100   5389\n",
       "9           Senior Travellers - 15% off next booking         609   5998"
      ]
     },
     "execution_count": 136,
     "metadata": {},
     "output_type": "execute_result"
    }
   ],
   "source": [
    "# Count per user to check no duplicates and no user has been left out, used a CTE so I can add a rolling total on the perks columns to see total\n",
    "\n",
    "query = \"\"\"\n",
    "\n",
    "WITH count_table AS (\n",
    "    SELECT COUNT(user_id) AS user_count,\n",
    "        CASE\n",
    "            WHEN trips_booked = 0 AND total_cancellations = 0 THEN 'First Timers - 10% off first booking'\n",
    "            WHEN trips_booked = 0 AND total_cancellations > 0 THEN 'Non-Committers - Free Cancellation on next booking'\n",
    "            WHEN trips_booked > 0 AND has_children = TRUE AND avg_hotel_cost_total > 3000 THEN 'Family Big Spenders - Kids stay free next hotel booking'\n",
    "            WHEN trips_booked > 0 AND has_children = TRUE AND avg_hotel_cost_total <= 3000 THEN 'Family Small Spenders - Kids eat for free next hotel booking'\n",
    "            WHEN trips_booked > 0 AND has_children = FALSE AND age_end_july_2023 > 35 AND total_hotel_transactions > 4 AND total_flights_transactions > 9 THEN 'Big Spenders - 1 Night free hotel room next flight booking'\n",
    "            WHEN trips_booked > 0 AND has_children = FALSE AND age_end_july_2023 > 35 AND total_hotel_transactions > 4 AND total_flights_transactions <= 9 THEN 'Hotel Stayers - Free meal with next hotel booking'\n",
    "            WHEN trips_booked > 0 AND has_children = FALSE AND age_end_july_2023 > 35 AND total_hotel_transactions <= 4 AND age_end_july_2023 > 50 THEN 'Senior Travellers - 15% off next booking'\n",
    "            WHEN trips_booked > 0 AND has_children = FALSE AND age_end_july_2023 > 35 AND total_hotel_transactions <= 4 AND age_end_july_2023 <= 50 THEN 'Mid Life Travellers - Bottle of Wine and cheese platter with next hotel booking'\n",
    "            WHEN trips_booked > 0 AND has_children = FALSE AND age_end_july_2023 <= 35 AND avg_checked_bags > 1 THEN 'Heavy Packers - Free bag on next flight'\n",
    "            WHEN trips_booked > 0 AND has_children = FALSE AND age_end_july_2023 <= 35 AND avg_checked_bags <= 1 THEN 'Light Packers - Free drink and snack on next flight booked'\n",
    "            ELSE 'No Perk'\n",
    "        END AS Perks\n",
    "    FROM user_level_df\n",
    "    GROUP BY Perks\n",
    ")\n",
    "SELECT \n",
    "    Perks,\n",
    "    user_count,\n",
    "    SUM(user_count) OVER(ORDER BY Perks) AS total\n",
    "FROM count_table\n",
    "\n",
    "\"\"\"\n",
    "result1 = pysqldf(query)\n",
    "result1"
   ]
  }
 ],
 "metadata": {
  "kernelspec": {
   "display_name": "myproject_kernel",
   "language": "python",
   "name": "myproject_kernel"
  },
  "language_info": {
   "codemirror_mode": {
    "name": "ipython",
    "version": 3
   },
   "file_extension": ".py",
   "mimetype": "text/x-python",
   "name": "python",
   "nbconvert_exporter": "python",
   "pygments_lexer": "ipython3",
   "version": "3.13.2"
  }
 },
 "nbformat": 4,
 "nbformat_minor": 5
}
