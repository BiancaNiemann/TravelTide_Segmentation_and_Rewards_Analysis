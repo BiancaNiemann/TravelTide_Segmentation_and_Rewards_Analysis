{
 "cells": [
  {
   "cell_type": "code",
   "execution_count": 3,
   "id": "785de8a1",
   "metadata": {},
   "outputs": [],
   "source": [
    "import pandas as pd\n",
    "\n",
    "perk_level_df = pd.read_csv(\"/Users/biancaniemann/Documents/VS Code/Practice Python/Travel Tide Project/TravelTide_Final_Files/user_level_df_incl_perk_segments.csv\")"
   ]
  },
  {
   "cell_type": "code",
   "execution_count": 2,
   "id": "24b9b11b",
   "metadata": {},
   "outputs": [],
   "source": [
    "!pip install -q pandasql\n",
    "from pandasql import sqldf\n",
    "pysqldf = lambda q: sqldf(q, globals())"
   ]
  },
  {
   "cell_type": "code",
   "execution_count": 14,
   "id": "135949f0",
   "metadata": {},
   "outputs": [
    {
     "data": {
      "text/html": [
       "<div>\n",
       "<style scoped>\n",
       "    .dataframe tbody tr th:only-of-type {\n",
       "        vertical-align: middle;\n",
       "    }\n",
       "\n",
       "    .dataframe tbody tr th {\n",
       "        vertical-align: top;\n",
       "    }\n",
       "\n",
       "    .dataframe thead th {\n",
       "        text-align: right;\n",
       "    }\n",
       "</style>\n",
       "<table border=\"1\" class=\"dataframe\">\n",
       "  <thead>\n",
       "    <tr style=\"text-align: right;\">\n",
       "      <th></th>\n",
       "      <th>avg_hotel_rate</th>\n",
       "    </tr>\n",
       "  </thead>\n",
       "  <tbody>\n",
       "    <tr>\n",
       "      <th>0</th>\n",
       "      <td>518.259833</td>\n",
       "    </tr>\n",
       "  </tbody>\n",
       "</table>\n",
       "</div>"
      ],
      "text/plain": [
       "   avg_hotel_rate\n",
       "0      518.259833"
      ]
     },
     "execution_count": 14,
     "metadata": {},
     "output_type": "execute_result"
    }
   ],
   "source": [
    "# Check the average hotel spent for midlife to check I am using correct info on tableau\n",
    "query = \"\"\"\n",
    "WITH test_table AS (\n",
    "    SELECT sum_hotel_cost_per_room_per_night, avg_hotel_cost_per_room_per_night,\n",
    "        SUM(sum_hotel_cost_per_room_per_night) OVER() AS 'test' \n",
    "    FROM perk_level_df\n",
    "    WHERE segmentation = 'Mid-Life Traveller'\n",
    ")\n",
    "SELECT test/COUNT(*) AS avg_hotel_rate\n",
    "FROM test_table\n",
    "\n",
    "\"\"\"\n",
    "result = pysqldf(query)\n",
    "result"
   ]
  },
  {
   "cell_type": "code",
   "execution_count": 22,
   "id": "877ade5c",
   "metadata": {},
   "outputs": [
    {
     "data": {
      "text/html": [
       "<div>\n",
       "<style scoped>\n",
       "    .dataframe tbody tr th:only-of-type {\n",
       "        vertical-align: middle;\n",
       "    }\n",
       "\n",
       "    .dataframe tbody tr th {\n",
       "        vertical-align: top;\n",
       "    }\n",
       "\n",
       "    .dataframe thead th {\n",
       "        text-align: right;\n",
       "    }\n",
       "</style>\n",
       "<table border=\"1\" class=\"dataframe\">\n",
       "  <thead>\n",
       "    <tr style=\"text-align: right;\">\n",
       "      <th></th>\n",
       "      <th>segmentation</th>\n",
       "      <th>total_bags</th>\n",
       "      <th>seg</th>\n",
       "      <th>avg</th>\n",
       "    </tr>\n",
       "  </thead>\n",
       "  <tbody>\n",
       "    <tr>\n",
       "      <th>0</th>\n",
       "      <td>Family Traveller</td>\n",
       "      <td>2361.0</td>\n",
       "      <td>1776</td>\n",
       "      <td>1.329392</td>\n",
       "    </tr>\n",
       "    <tr>\n",
       "      <th>1</th>\n",
       "      <td>Mid-Life Traveller</td>\n",
       "      <td>3879.0</td>\n",
       "      <td>2390</td>\n",
       "      <td>1.623013</td>\n",
       "    </tr>\n",
       "    <tr>\n",
       "      <th>2</th>\n",
       "      <td>No Perk</td>\n",
       "      <td>0.0</td>\n",
       "      <td>64</td>\n",
       "      <td>0.000000</td>\n",
       "    </tr>\n",
       "    <tr>\n",
       "      <th>3</th>\n",
       "      <td>Not traveller Yet</td>\n",
       "      <td>0.0</td>\n",
       "      <td>492</td>\n",
       "      <td>0.000000</td>\n",
       "    </tr>\n",
       "    <tr>\n",
       "      <th>4</th>\n",
       "      <td>Senior Traveller</td>\n",
       "      <td>224.0</td>\n",
       "      <td>285</td>\n",
       "      <td>0.785965</td>\n",
       "    </tr>\n",
       "    <tr>\n",
       "      <th>5</th>\n",
       "      <td>Young Traveller</td>\n",
       "      <td>1051.0</td>\n",
       "      <td>991</td>\n",
       "      <td>1.060545</td>\n",
       "    </tr>\n",
       "  </tbody>\n",
       "</table>\n",
       "</div>"
      ],
      "text/plain": [
       "         segmentation  total_bags   seg       avg\n",
       "0    Family Traveller      2361.0  1776  1.329392\n",
       "1  Mid-Life Traveller      3879.0  2390  1.623013\n",
       "2             No Perk         0.0    64  0.000000\n",
       "3   Not traveller Yet         0.0   492  0.000000\n",
       "4    Senior Traveller       224.0   285  0.785965\n",
       "5     Young Traveller      1051.0   991  1.060545"
      ]
     },
     "execution_count": 22,
     "metadata": {},
     "output_type": "execute_result"
    }
   ],
   "source": [
    "# Check the average checked-bags\n",
    "query = \"\"\"\n",
    "WITH test_table AS (\n",
    "    SELECT segmentation, SUM(sum_checked_bags) as 'total_bags', count(segmentation) as 'seg'\n",
    "    FROM perk_level_df\n",
    "    GROUP BY segmentation\n",
    ")\n",
    "SELECT segmentation, total_bags, seg, total_bags/seg AS avg\n",
    "FROM test_table\n",
    "\"\"\"\n",
    "result = pysqldf(query)\n",
    "result"
   ]
  },
  {
   "cell_type": "code",
   "execution_count": 49,
   "id": "70c61fc5",
   "metadata": {},
   "outputs": [
    {
     "data": {
      "text/html": [
       "<div>\n",
       "<style scoped>\n",
       "    .dataframe tbody tr th:only-of-type {\n",
       "        vertical-align: middle;\n",
       "    }\n",
       "\n",
       "    .dataframe tbody tr th {\n",
       "        vertical-align: top;\n",
       "    }\n",
       "\n",
       "    .dataframe thead th {\n",
       "        text-align: right;\n",
       "    }\n",
       "</style>\n",
       "<table border=\"1\" class=\"dataframe\">\n",
       "  <thead>\n",
       "    <tr style=\"text-align: right;\">\n",
       "      <th></th>\n",
       "      <th>MAX(sum_hotel_cost_total)</th>\n",
       "      <th>AVG(sum_hotel_cost_total)</th>\n",
       "      <th>MAX(sum_flights_cost )</th>\n",
       "      <th>AVG(sum_flights_cost )</th>\n",
       "      <th>MAX(trips_booked)</th>\n",
       "      <th>MAX(total_flights_transactions)</th>\n",
       "      <th>AVG(total_flights_transactions)</th>\n",
       "      <th>MAX(total_hotel_transactions)</th>\n",
       "      <th>AVG(total_hotel_transactions)</th>\n",
       "    </tr>\n",
       "  </thead>\n",
       "  <tbody>\n",
       "    <tr>\n",
       "      <th>0</th>\n",
       "      <td>28114.0</td>\n",
       "      <td>2480.433473</td>\n",
       "      <td>7481.72</td>\n",
       "      <td>1275.952669</td>\n",
       "      <td>8</td>\n",
       "      <td>16</td>\n",
       "      <td>5.756485</td>\n",
       "      <td>7</td>\n",
       "      <td>2.943515</td>\n",
       "    </tr>\n",
       "  </tbody>\n",
       "</table>\n",
       "</div>"
      ],
      "text/plain": [
       "   MAX(sum_hotel_cost_total)  AVG(sum_hotel_cost_total)  \\\n",
       "0                    28114.0                2480.433473   \n",
       "\n",
       "   MAX(sum_flights_cost )  AVG(sum_flights_cost )  MAX(trips_booked)  \\\n",
       "0                 7481.72             1275.952669                  8   \n",
       "\n",
       "   MAX(total_flights_transactions)  AVG(total_flights_transactions)  \\\n",
       "0                               16                         5.756485   \n",
       "\n",
       "   MAX(total_hotel_transactions)  AVG(total_hotel_transactions)  \n",
       "0                              7                       2.943515  "
      ]
     },
     "execution_count": 49,
     "metadata": {},
     "output_type": "execute_result"
    }
   ],
   "source": [
    "# \n",
    "query = \"\"\"\n",
    "\n",
    "    SELECT MAX(sum_hotel_cost_total), AVG(sum_hotel_cost_total), MAX(sum_flights_cost ), AVG(sum_flights_cost ), MAX(trips_booked) ,MAX(total_flights_transactions),AVG(total_flights_transactions), MAX(total_hotel_transactions), AVG(total_hotel_transactions)\n",
    "    FROM perk_level_df\n",
    "    WHERE segmentation = 'Mid-Life Traveller'\n",
    "\n",
    "\"\"\"\n",
    "result = pysqldf(query)\n",
    "result"
   ]
  },
  {
   "cell_type": "code",
   "execution_count": 55,
   "id": "7d92f5c1",
   "metadata": {},
   "outputs": [
    {
     "data": {
      "text/html": [
       "<div>\n",
       "<style scoped>\n",
       "    .dataframe tbody tr th:only-of-type {\n",
       "        vertical-align: middle;\n",
       "    }\n",
       "\n",
       "    .dataframe tbody tr th {\n",
       "        vertical-align: top;\n",
       "    }\n",
       "\n",
       "    .dataframe thead th {\n",
       "        text-align: right;\n",
       "    }\n",
       "</style>\n",
       "<table border=\"1\" class=\"dataframe\">\n",
       "  <thead>\n",
       "    <tr style=\"text-align: right;\">\n",
       "      <th></th>\n",
       "      <th>COUNT(*)</th>\n",
       "    </tr>\n",
       "  </thead>\n",
       "  <tbody>\n",
       "    <tr>\n",
       "      <th>0</th>\n",
       "      <td>1109</td>\n",
       "    </tr>\n",
       "  </tbody>\n",
       "</table>\n",
       "</div>"
      ],
      "text/plain": [
       "   COUNT(*)\n",
       "0      1109"
      ]
     },
     "execution_count": 55,
     "metadata": {},
     "output_type": "execute_result"
    }
   ],
   "source": [
    "# \n",
    "query = \"\"\"\n",
    "\n",
    "    SELECT COUNT(*) \n",
    "    FROM perk_level_df\n",
    "    WHERE segmentation = 'Mid-Life Traveller'\n",
    "        AND (sum_hotel_cost_total + sum_flights_cost ) <= 3000\n",
    "\"\"\"\n",
    "result = pysqldf(query)\n",
    "result"
   ]
  },
  {
   "cell_type": "code",
   "execution_count": 57,
   "id": "9dcb3e9e",
   "metadata": {},
   "outputs": [
    {
     "data": {
      "text/html": [
       "<div>\n",
       "<style scoped>\n",
       "    .dataframe tbody tr th:only-of-type {\n",
       "        vertical-align: middle;\n",
       "    }\n",
       "\n",
       "    .dataframe tbody tr th {\n",
       "        vertical-align: top;\n",
       "    }\n",
       "\n",
       "    .dataframe thead th {\n",
       "        text-align: right;\n",
       "    }\n",
       "</style>\n",
       "<table border=\"1\" class=\"dataframe\">\n",
       "  <thead>\n",
       "    <tr style=\"text-align: right;\">\n",
       "      <th></th>\n",
       "      <th>COUNT(*)</th>\n",
       "    </tr>\n",
       "  </thead>\n",
       "  <tbody>\n",
       "    <tr>\n",
       "      <th>0</th>\n",
       "      <td>1281</td>\n",
       "    </tr>\n",
       "  </tbody>\n",
       "</table>\n",
       "</div>"
      ],
      "text/plain": [
       "   COUNT(*)\n",
       "0      1281"
      ]
     },
     "execution_count": 57,
     "metadata": {},
     "output_type": "execute_result"
    }
   ],
   "source": [
    "# \n",
    "query = \"\"\"\n",
    "\n",
    "    SELECT COUNT(*) \n",
    "    FROM perk_level_df\n",
    "    WHERE segmentation = 'Mid-Life Traveller'\n",
    "        AND (sum_hotel_cost_total + sum_flights_cost ) > 3000\n",
    "\"\"\"\n",
    "result = pysqldf(query)\n",
    "result"
   ]
  },
  {
   "cell_type": "code",
   "execution_count": 66,
   "id": "05954bf4",
   "metadata": {},
   "outputs": [
    {
     "data": {
      "text/html": [
       "<div>\n",
       "<style scoped>\n",
       "    .dataframe tbody tr th:only-of-type {\n",
       "        vertical-align: middle;\n",
       "    }\n",
       "\n",
       "    .dataframe tbody tr th {\n",
       "        vertical-align: top;\n",
       "    }\n",
       "\n",
       "    .dataframe thead th {\n",
       "        text-align: right;\n",
       "    }\n",
       "</style>\n",
       "<table border=\"1\" class=\"dataframe\">\n",
       "  <thead>\n",
       "    <tr style=\"text-align: right;\">\n",
       "      <th></th>\n",
       "      <th>COUNT(*)</th>\n",
       "    </tr>\n",
       "  </thead>\n",
       "  <tbody>\n",
       "    <tr>\n",
       "      <th>0</th>\n",
       "      <td>1459</td>\n",
       "    </tr>\n",
       "  </tbody>\n",
       "</table>\n",
       "</div>"
      ],
      "text/plain": [
       "   COUNT(*)\n",
       "0      1459"
      ]
     },
     "execution_count": 66,
     "metadata": {},
     "output_type": "execute_result"
    }
   ],
   "source": [
    "# \n",
    "query = \"\"\"\n",
    "\n",
    "    SELECT COUNT(*) \n",
    "    FROM perk_level_df\n",
    "    WHERE segmentation = 'Mid-Life Traveller'\n",
    "        AND avg_flight_discount_amount = 0\n",
    "\"\"\"\n",
    "result = pysqldf(query)\n",
    "result"
   ]
  },
  {
   "cell_type": "code",
   "execution_count": 67,
   "id": "1b5a44d8",
   "metadata": {},
   "outputs": [
    {
     "data": {
      "text/html": [
       "<div>\n",
       "<style scoped>\n",
       "    .dataframe tbody tr th:only-of-type {\n",
       "        vertical-align: middle;\n",
       "    }\n",
       "\n",
       "    .dataframe tbody tr th {\n",
       "        vertical-align: top;\n",
       "    }\n",
       "\n",
       "    .dataframe thead th {\n",
       "        text-align: right;\n",
       "    }\n",
       "</style>\n",
       "<table border=\"1\" class=\"dataframe\">\n",
       "  <thead>\n",
       "    <tr style=\"text-align: right;\">\n",
       "      <th></th>\n",
       "      <th>COUNT(*)</th>\n",
       "    </tr>\n",
       "  </thead>\n",
       "  <tbody>\n",
       "    <tr>\n",
       "      <th>0</th>\n",
       "      <td>931</td>\n",
       "    </tr>\n",
       "  </tbody>\n",
       "</table>\n",
       "</div>"
      ],
      "text/plain": [
       "   COUNT(*)\n",
       "0       931"
      ]
     },
     "execution_count": 67,
     "metadata": {},
     "output_type": "execute_result"
    }
   ],
   "source": [
    "# \n",
    "query = \"\"\"\n",
    "\n",
    "    SELECT COUNT(*) \n",
    "    FROM perk_level_df\n",
    "    WHERE segmentation = 'Mid-Life Traveller'\n",
    "        AND avg_flight_discount_amount > 0\n",
    "\"\"\"\n",
    "result = pysqldf(query)\n",
    "result"
   ]
  },
  {
   "cell_type": "code",
   "execution_count": 59,
   "id": "7667b611",
   "metadata": {},
   "outputs": [
    {
     "data": {
      "text/html": [
       "<div>\n",
       "<style scoped>\n",
       "    .dataframe tbody tr th:only-of-type {\n",
       "        vertical-align: middle;\n",
       "    }\n",
       "\n",
       "    .dataframe tbody tr th {\n",
       "        vertical-align: top;\n",
       "    }\n",
       "\n",
       "    .dataframe thead th {\n",
       "        text-align: right;\n",
       "    }\n",
       "</style>\n",
       "<table border=\"1\" class=\"dataframe\">\n",
       "  <thead>\n",
       "    <tr style=\"text-align: right;\">\n",
       "      <th></th>\n",
       "      <th>max(avg_hotel_discount_amount)</th>\n",
       "      <th>MAX(avg_flight_discount_amount)</th>\n",
       "    </tr>\n",
       "  </thead>\n",
       "  <tbody>\n",
       "    <tr>\n",
       "      <th>0</th>\n",
       "      <td>0.45</td>\n",
       "      <td>0.5</td>\n",
       "    </tr>\n",
       "  </tbody>\n",
       "</table>\n",
       "</div>"
      ],
      "text/plain": [
       "   max(avg_hotel_discount_amount)  MAX(avg_flight_discount_amount)\n",
       "0                            0.45                              0.5"
      ]
     },
     "execution_count": 59,
     "metadata": {},
     "output_type": "execute_result"
    }
   ],
   "source": [
    "# \n",
    "query = \"\"\"\n",
    "\n",
    "    SELECT max(avg_hotel_discount_amount), MAX(avg_flight_discount_amount)\n",
    "    FROM perk_level_df\n",
    "    WHERE segmentation = 'Mid-Life Traveller'\n",
    "    \n",
    "\"\"\"\n",
    "result = pysqldf(query)\n",
    "result"
   ]
  }
 ],
 "metadata": {
  "kernelspec": {
   "display_name": "myproject_kernel",
   "language": "python",
   "name": "myproject_kernel"
  },
  "language_info": {
   "codemirror_mode": {
    "name": "ipython",
    "version": 3
   },
   "file_extension": ".py",
   "mimetype": "text/x-python",
   "name": "python",
   "nbconvert_exporter": "python",
   "pygments_lexer": "ipython3",
   "version": "3.13.2"
  }
 },
 "nbformat": 4,
 "nbformat_minor": 5
}
